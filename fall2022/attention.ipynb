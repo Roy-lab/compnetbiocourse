{
 "cells": [
  {
   "cell_type": "markdown",
   "metadata": {},
   "source": [
    "# Attention examples\n",
    "Anthony Gitter  \n",
    "October 13, 2022  \n",
    "Explore the attention calculations from the lecture slides"
   ]
  },
  {
   "cell_type": "code",
   "execution_count": 1,
   "metadata": {},
   "outputs": [],
   "source": [
    "import numpy as np\n",
    "from scipy.special import softmax"
   ]
  },
  {
   "cell_type": "markdown",
   "metadata": {},
   "source": [
    "Define the query vector. This could be a query matrix with multiple queries as shown later."
   ]
  },
  {
   "cell_type": "code",
   "execution_count": 2,
   "metadata": {},
   "outputs": [],
   "source": [
    "mammal = np.array([8.7, 3.2, 4.1])"
   ]
  },
  {
   "cell_type": "markdown",
   "metadata": {},
   "source": [
    "Initially define the key vectors individually so we can see how they correspond to the keys in the slides. These must have the same length as the query."
   ]
  },
  {
   "cell_type": "code",
   "execution_count": 3,
   "metadata": {},
   "outputs": [],
   "source": [
    "kitten = np.array([9.1, 1.0, 2.1])"
   ]
  },
  {
   "cell_type": "code",
   "execution_count": 4,
   "metadata": {},
   "outputs": [],
   "source": [
    "lizard = np.array([0.1, 7.5, 4.3])"
   ]
  },
  {
   "cell_type": "code",
   "execution_count": 5,
   "metadata": {},
   "outputs": [],
   "source": [
    "salmon = np.array([1.3, 5.5, 8.2])"
   ]
  },
  {
   "cell_type": "code",
   "execution_count": 6,
   "metadata": {},
   "outputs": [],
   "source": [
    "whale = np.array([7.6, 2.4, 4.0])"
   ]
  },
  {
   "cell_type": "code",
   "execution_count": 7,
   "metadata": {},
   "outputs": [],
   "source": [
    "wolf = np.array([8.5, 2.7, 2.7])"
   ]
  },
  {
   "cell_type": "markdown",
   "metadata": {},
   "source": [
    "Compute and inspect the scaling factor we will use later."
   ]
  },
  {
   "cell_type": "code",
   "execution_count": 8,
   "metadata": {},
   "outputs": [
    {
     "name": "stdout",
     "output_type": "stream",
     "text": [
      "1.7320508075688772\n"
     ]
    }
   ],
   "source": [
    "scaling = np.sqrt(len(mammal))\n",
    "print(scaling)"
   ]
  },
  {
   "cell_type": "markdown",
   "metadata": {},
   "source": [
    "Combine all of the keys into the keys matrix."
   ]
  },
  {
   "cell_type": "code",
   "execution_count": 9,
   "metadata": {},
   "outputs": [],
   "source": [
    "animals = np.stack([kitten, lizard, salmon, whale, wolf], axis=0)"
   ]
  },
  {
   "cell_type": "code",
   "execution_count": 10,
   "metadata": {},
   "outputs": [
    {
     "data": {
      "text/plain": [
       "array([[9.1, 1. , 2.1],\n",
       "       [0.1, 7.5, 4.3],\n",
       "       [1.3, 5.5, 8.2],\n",
       "       [7.6, 2.4, 4. ],\n",
       "       [8.5, 2.7, 2.7]])"
      ]
     },
     "execution_count": 10,
     "metadata": {},
     "output_type": "execute_result"
    }
   ],
   "source": [
    "animals"
   ]
  },
  {
   "cell_type": "markdown",
   "metadata": {},
   "source": [
    "Inspect the query-key dot products before scaling and taking the softmax"
   ]
  },
  {
   "cell_type": "code",
   "execution_count": 11,
   "metadata": {},
   "outputs": [
    {
     "data": {
      "text/plain": [
       "array([90.98, 42.5 , 62.53, 90.2 , 93.66])"
      ]
     },
     "execution_count": 11,
     "metadata": {},
     "output_type": "execute_result"
    }
   ],
   "source": [
    "mammal@animals.T"
   ]
  },
  {
   "cell_type": "code",
   "execution_count": 12,
   "metadata": {},
   "outputs": [
    {
     "data": {
      "text/plain": [
       "array([52.52732749, 24.53738644, 36.10171233, 52.07699428, 54.07462621])"
      ]
     },
     "execution_count": 12,
     "metadata": {},
     "output_type": "execute_result"
    }
   ],
   "source": [
    "mammal@animals.T/np.sqrt(len(mammal))"
   ]
  },
  {
   "cell_type": "markdown",
   "metadata": {},
   "source": [
    "Compute the similarity weights"
   ]
  },
  {
   "cell_type": "code",
   "execution_count": 13,
   "metadata": {},
   "outputs": [
    {
     "name": "stdout",
     "output_type": "stream",
     "text": [
      "[1.57823895e-01 1.10228985e-13 1.16042942e-08 1.00599432e-01\n",
      " 7.41576662e-01]\n"
     ]
    }
   ],
   "source": [
    "weights = softmax(mammal@animals.T/scaling)\n",
    "print(weights)"
   ]
  },
  {
   "cell_type": "markdown",
   "metadata": {},
   "source": [
    "Store the values that correspond to each key"
   ]
  },
  {
   "cell_type": "code",
   "execution_count": 14,
   "metadata": {},
   "outputs": [],
   "source": [
    "values = np.array([[3.4,1.3,0.4,9.8], # furry\n",
    "                  [7.5,3.9,4.1,0.2], # scaly\n",
    "                  [8.3,2.8,2.3,0.1], # slippery\n",
    "                  [1.6,8.4,9.9,3.4], # huge\n",
    "                  [2.2,9.4,8.7,1.1]]) # ferocious"
   ]
  },
  {
   "cell_type": "markdown",
   "metadata": {},
   "source": [
    "Compute the final ouput value for our query `mammal`"
   ]
  },
  {
   "cell_type": "code",
   "execution_count": 15,
   "metadata": {},
   "outputs": [
    {
     "name": "stdout",
     "output_type": "stream",
     "text": [
      "[2.32902909 8.02102694 7.51078092 2.70444657]\n"
     ]
    }
   ],
   "source": [
    "output = weights@values\n",
    "print(output)"
   ]
  },
  {
   "cell_type": "markdown",
   "metadata": {},
   "source": [
    "Try it with a different query"
   ]
  },
  {
   "cell_type": "code",
   "execution_count": 16,
   "metadata": {},
   "outputs": [],
   "source": [
    "reptile = np.array([2.1, 9.9, 1.6])"
   ]
  },
  {
   "cell_type": "code",
   "execution_count": 17,
   "metadata": {},
   "outputs": [
    {
     "name": "stdout",
     "output_type": "stream",
     "text": [
      "[5.25436708e-13 9.98297480e-01 1.70251120e-03 1.47297680e-09\n",
      " 7.33251915e-09]\n"
     ]
    }
   ],
   "source": [
    "weights = softmax(reptile@animals.T/scaling)\n",
    "print(weights)"
   ]
  },
  {
   "cell_type": "code",
   "execution_count": 18,
   "metadata": {},
   "outputs": [
    {
     "name": "stdout",
     "output_type": "stream",
     "text": [
      "[7.50136196 3.89812728 4.09693552 0.19982976]\n"
     ]
    }
   ],
   "source": [
    "output = weights@values\n",
    "print(output)"
   ]
  },
  {
   "cell_type": "markdown",
   "metadata": {},
   "source": [
    "What if we have a query matrix instead?"
   ]
  },
  {
   "cell_type": "code",
   "execution_count": 19,
   "metadata": {},
   "outputs": [
    {
     "name": "stdout",
     "output_type": "stream",
     "text": [
      "[[8.7 3.2 4.1]\n",
      " [2.1 9.9 1.6]]\n"
     ]
    }
   ],
   "source": [
    "query = np.stack([mammal, reptile], axis=0)\n",
    "print(query)"
   ]
  },
  {
   "cell_type": "code",
   "execution_count": 20,
   "metadata": {},
   "outputs": [
    {
     "name": "stdout",
     "output_type": "stream",
     "text": [
      "[[1.57823895e-01 1.10228985e-13 1.16042942e-08 1.00599432e-01\n",
      "  7.41576662e-01]\n",
      " [5.25436708e-13 9.98297480e-01 1.70251120e-03 1.47297680e-09\n",
      "  7.33251915e-09]]\n"
     ]
    }
   ],
   "source": [
    "# Take the softmax over each row, not the entire matrix\n",
    "weights = softmax(query@animals.T/scaling, axis=1)\n",
    "print(weights)"
   ]
  },
  {
   "cell_type": "code",
   "execution_count": 21,
   "metadata": {},
   "outputs": [
    {
     "name": "stdout",
     "output_type": "stream",
     "text": [
      "[[2.32902909 8.02102694 7.51078092 2.70444657]\n",
      " [7.50136196 3.89812728 4.09693552 0.19982976]]\n"
     ]
    }
   ],
   "source": [
    "# First row is the updated value for 'mammal'\n",
    "# Second row is the updated value for 'reptile'\n",
    "output = weights@values\n",
    "print(output)"
   ]
  }
 ],
 "metadata": {
  "kernelspec": {
   "display_name": "Python 3",
   "language": "python",
   "name": "python3"
  },
  "language_info": {
   "codemirror_mode": {
    "name": "ipython",
    "version": 3
   },
   "file_extension": ".py",
   "mimetype": "text/x-python",
   "name": "python",
   "nbconvert_exporter": "python",
   "pygments_lexer": "ipython3",
   "version": "3.7.3"
  }
 },
 "nbformat": 4,
 "nbformat_minor": 2
}

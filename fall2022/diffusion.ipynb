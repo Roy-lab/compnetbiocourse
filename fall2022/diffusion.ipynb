{
 "cells": [
  {
   "cell_type": "markdown",
   "metadata": {},
   "source": [
    "# Graph diffusion examples\n",
    "Anthony Gitter  \n",
    "November 8, 2022\n",
    "\n",
    "Run random walk with restarts using the examples in the slides and some extreme examples"
   ]
  },
  {
   "cell_type": "code",
   "execution_count": 1,
   "metadata": {},
   "outputs": [],
   "source": [
    "import numpy as np"
   ]
  },
  {
   "cell_type": "code",
   "execution_count": 2,
   "metadata": {},
   "outputs": [],
   "source": [
    "# Column-normalized adjacency matrix\n",
    "W = np.array([[0,0.5,0,0.5,0],\n",
    "             [0.5,0,1/3,0,0],\n",
    "             [0,0.5,0,0.5,1],\n",
    "             [0.5,0,1/3,0,0],\n",
    "             [0,0,1/3,0,0]])"
   ]
  },
  {
   "cell_type": "code",
   "execution_count": 3,
   "metadata": {},
   "outputs": [],
   "source": [
    "# set seeds\n",
    "p0 = np.array([0.5,0.5,0,0,0])"
   ]
  },
  {
   "cell_type": "code",
   "execution_count": 4,
   "metadata": {},
   "outputs": [],
   "source": [
    "# Function uses some global variables\n",
    "def rwr(r, iterations):\n",
    "    print(f'r: {r}')\n",
    "    pt = p0\n",
    "    for i in range(iterations+1):\n",
    "        print(f'Iteration {i}')\n",
    "        print(pt)\n",
    "        pt = (1-r)*W@pt+r*p0"
   ]
  },
  {
   "cell_type": "code",
   "execution_count": 5,
   "metadata": {},
   "outputs": [
    {
     "name": "stdout",
     "output_type": "stream",
     "text": [
      "r: 0.7\n",
      "Iteration 0\n",
      "[0.5 0.5 0.  0.  0. ]\n",
      "Iteration 1\n",
      "[0.425 0.425 0.075 0.075 0.   ]\n",
      "Iteration 2\n",
      "[0.425   0.42125 0.075   0.07125 0.0075 ]\n",
      "Iteration 3\n",
      "[0.423875 0.42125  0.076125 0.07125  0.0075  ]\n",
      "Iteration 4\n",
      "[0.423875   0.42119375 0.076125   0.07119375 0.0076125 ]\n",
      "Iteration 5\n",
      "[0.42385812 0.42119375 0.07614188 0.07119375 0.0076125 ]\n",
      "Iteration 6\n",
      "[0.42385812 0.42119291 0.07614188 0.07119291 0.00761419]\n"
     ]
    }
   ],
   "source": [
    "rwr(0.7,6)"
   ]
  },
  {
   "cell_type": "code",
   "execution_count": 6,
   "metadata": {},
   "outputs": [
    {
     "name": "stdout",
     "output_type": "stream",
     "text": [
      "r: 0.5\n",
      "Iteration 0\n",
      "[0.5 0.5 0.  0.  0. ]\n",
      "Iteration 1\n",
      "[0.375 0.375 0.125 0.125 0.   ]\n",
      "Iteration 2\n",
      "[0.375      0.36458333 0.125      0.11458333 0.02083333]\n",
      "Iteration 3\n",
      "[0.36979167 0.36458333 0.13020833 0.11458333 0.02083333]\n",
      "Iteration 4\n",
      "[0.36979167 0.36414931 0.13020833 0.11414931 0.02170139]\n",
      "Iteration 5\n",
      "[0.36957465 0.36414931 0.13042535 0.11414931 0.02170139]\n",
      "Iteration 6\n",
      "[0.36957465 0.36413122 0.13042535 0.11413122 0.02173756]\n",
      "Iteration 7\n",
      "[0.36956561 0.36413122 0.13043439 0.11413122 0.02173756]\n",
      "Iteration 8\n",
      "[0.36956561 0.36413047 0.13043439 0.11413047 0.02173906]\n"
     ]
    }
   ],
   "source": [
    "rwr(0.5,8)"
   ]
  },
  {
   "cell_type": "code",
   "execution_count": 7,
   "metadata": {},
   "outputs": [
    {
     "name": "stdout",
     "output_type": "stream",
     "text": [
      "r: 0\n",
      "Iteration 0\n",
      "[0.5 0.5 0.  0.  0. ]\n",
      "Iteration 1\n",
      "[0.25 0.25 0.25 0.25 0.  ]\n",
      "Iteration 2\n",
      "[0.25       0.20833333 0.25       0.20833333 0.08333333]\n",
      "Iteration 3\n",
      "[0.20833333 0.20833333 0.29166667 0.20833333 0.08333333]\n",
      "Iteration 4\n",
      "[0.20833333 0.20138889 0.29166667 0.20138889 0.09722222]\n",
      "Iteration 5\n",
      "[0.20138889 0.20138889 0.29861111 0.20138889 0.09722222]\n",
      "Iteration 6\n",
      "[0.20138889 0.20023148 0.29861111 0.20023148 0.09953704]\n",
      "Iteration 7\n",
      "[0.20023148 0.20023148 0.29976852 0.20023148 0.09953704]\n",
      "Iteration 8\n",
      "[0.20023148 0.20003858 0.29976852 0.20003858 0.09992284]\n",
      "Iteration 9\n",
      "[0.20003858 0.20003858 0.29996142 0.20003858 0.09992284]\n",
      "Iteration 10\n",
      "[0.20003858 0.20000643 0.29996142 0.20000643 0.09998714]\n",
      "Iteration 11\n",
      "[0.20000643 0.20000643 0.29999357 0.20000643 0.09998714]\n",
      "Iteration 12\n",
      "[0.20000643 0.20000107 0.29999357 0.20000107 0.09999786]\n",
      "Iteration 13\n",
      "[0.20000107 0.20000107 0.29999893 0.20000107 0.09999786]\n",
      "Iteration 14\n",
      "[0.20000107 0.20000018 0.29999893 0.20000018 0.09999964]\n",
      "Iteration 15\n",
      "[0.20000018 0.20000018 0.29999982 0.20000018 0.09999964]\n",
      "Iteration 16\n",
      "[0.20000018 0.20000003 0.29999982 0.20000003 0.09999994]\n",
      "Iteration 17\n",
      "[0.20000003 0.20000003 0.29999997 0.20000003 0.09999994]\n",
      "Iteration 18\n",
      "[0.20000003 0.2        0.29999997 0.2        0.09999999]\n",
      "Iteration 19\n",
      "[0.2        0.2        0.3        0.2        0.09999999]\n",
      "Iteration 20\n",
      "[0.2 0.2 0.3 0.2 0.1]\n"
     ]
    }
   ],
   "source": [
    "rwr(0,20)"
   ]
  },
  {
   "cell_type": "code",
   "execution_count": 8,
   "metadata": {},
   "outputs": [
    {
     "name": "stdout",
     "output_type": "stream",
     "text": [
      "r: 1\n",
      "Iteration 0\n",
      "[0.5 0.5 0.  0.  0. ]\n",
      "Iteration 1\n",
      "[0.5 0.5 0.  0.  0. ]\n"
     ]
    }
   ],
   "source": [
    "rwr(1,1)"
   ]
  }
 ],
 "metadata": {
  "kernelspec": {
   "display_name": "Python 3",
   "language": "python",
   "name": "python3"
  },
  "language_info": {
   "codemirror_mode": {
    "name": "ipython",
    "version": 3
   },
   "file_extension": ".py",
   "mimetype": "text/x-python",
   "name": "python",
   "nbconvert_exporter": "python",
   "pygments_lexer": "ipython3",
   "version": "3.7.3"
  }
 },
 "nbformat": 4,
 "nbformat_minor": 2
}

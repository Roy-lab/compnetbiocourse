{
 "cells": [
  {
   "cell_type": "markdown",
   "metadata": {},
   "source": [
    "# Bayesian Network Concepts\n",
    "In this notebook, we will review some concepts about conditional probability tables, how to estimate them and how to use them. We will do this using the [pgmpy python suite](https://pgmpy.org/index.html). We will first import the set the paths and import pgmpy into the Jupyter environment. "
   ]
  },
  {
   "cell_type": "code",
   "execution_count": 52,
   "metadata": {
    "scrolled": false
   },
   "outputs": [],
   "source": [
    "import pgmpy"
   ]
  },
  {
   "cell_type": "markdown",
   "metadata": {},
   "source": [
    "## Step 1. Create a small dataset \n",
    "This example is a toy example with just four variables. The are `fruit`, `tasty`, `size`, `color`. We will use the python `pandas` to create this dataset. This dataset has 14 samples.  "
   ]
  },
  {
   "cell_type": "code",
   "execution_count": 53,
   "metadata": {
    "scrolled": true
   },
   "outputs": [],
   "source": [
    "import pandas as pd\n",
    "data = pd.DataFrame(data={'fruit': [\"banana\", \"apple\", \"banana\", \"apple\", \"banana\",\"apple\", \"banana\",\n",
    "                                    \"apple\", \"apple\", \"apple\", \"banana\", \"banana\", \"apple\", \"banana\",],\n",
    "                          'tasty': [\"yes\", \"no\", \"yes\", \"yes\", \"yes\", \"yes\", \"yes\",\n",
    "                                    \"yes\", \"yes\", \"yes\", \"yes\", \"no\", \"no\", \"no\"],\n",
    "                          'size': [\"large\", \"large\", \"large\", \"small\", \"large\", \"large\", \"large\",\n",
    "                                    \"small\", \"large\", \"large\", \"large\", \"large\", \"small\", \"small\"],\n",
    "                         'color': [\"yellow\",\"green\",\"yellow\",\"red\",\"green\",\"red\",\"yellow\",\n",
    "                                  \"red\",\"yellow\",\"green\",\"green\",\"yellow\",\"red\",\"green\"]})\n",
    "\n"
   ]
  },
  {
   "cell_type": "markdown",
   "metadata": {},
   "source": [
    "Let's look at our data by printing it out. Using this dataset, we will try to answer simple questions like the probability of a banana being tasty given its size.  "
   ]
  },
  {
   "cell_type": "code",
   "execution_count": 54,
   "metadata": {
    "scrolled": false
   },
   "outputs": [
    {
     "name": "stdout",
     "output_type": "stream",
     "text": [
      "     fruit tasty   size   color\n",
      "0   banana   yes  large  yellow\n",
      "1    apple    no  large   green\n",
      "2   banana   yes  large  yellow\n",
      "3    apple   yes  small     red\n",
      "4   banana   yes  large   green\n",
      "5    apple   yes  large     red\n",
      "6   banana   yes  large  yellow\n",
      "7    apple   yes  small     red\n",
      "8    apple   yes  large  yellow\n",
      "9    apple   yes  large   green\n",
      "10  banana   yes  large   green\n",
      "11  banana    no  large  yellow\n",
      "12   apple    no  small     red\n",
      "13  banana    no  small   green\n"
     ]
    }
   ],
   "source": [
    "print(data)"
   ]
  },
  {
   "cell_type": "markdown",
   "metadata": {},
   "source": [
    "## Step 2. Create a Bayesian network\n",
    "We will now create a Bayesian Network for our dataset. We will assume that the network will have `fruit` as the parent of `size` and `color` and, these two will determine if the fruit is tasty! We will use the `BayesianNetwork` class from pgmpy."
   ]
  },
  {
   "cell_type": "code",
   "execution_count": 55,
   "metadata": {},
   "outputs": [],
   "source": [
    "from pgmpy.models import BayesianNetwork"
   ]
  },
  {
   "cell_type": "markdown",
   "metadata": {},
   "source": [
    "Specify the structure of the Bayesian network by adding edges from parent to child."
   ]
  },
  {
   "cell_type": "code",
   "execution_count": 56,
   "metadata": {},
   "outputs": [],
   "source": [
    "model=BayesianNetwork([('fruit','size'),('fruit','color'),('size', 'tasty'), ('color', 'tasty')])"
   ]
  },
  {
   "cell_type": "markdown",
   "metadata": {},
   "source": [
    "Let's draw out the structure of the Bayesian network. We will use the `networkx` package for this."
   ]
  },
  {
   "cell_type": "code",
   "execution_count": 57,
   "metadata": {},
   "outputs": [
    {
     "data": {
      "image/png": "[encoded data removed]",
      "text/plain": [
       "<Figure size 640x480 with 1 Axes>"
      ]
     },
     "metadata": {},
     "output_type": "display_data"
    }
   ],
   "source": [
    "import importlib\n",
    "import networkx as nx\n",
    "import matplotlib.pyplot as plt\n",
    "pos=nx.circular_layout(model)\n",
    "#pos=nx.spring_layout(model)\n",
    "#pos=nx.planar_layout(model)\n",
    "nx.draw(model,pos=pos,with_labels=True,node_size=500,font_size=15,alpha=0.5);\n",
    "plt.show()"
   ]
  },
  {
   "cell_type": "markdown",
   "metadata": {},
   "source": [
    "## Step 3. Parameter estimation of the Bayesian network\n",
    "Now we will do some count estimations based on the data we had previously generated. For this we will use the `ParameterEstimator` class of pgmpy. We will first do simple count estimations, then maximum likelihood estimates and finally we will use a pseudo count (a simple version of adding parameter priors).\n",
    "\n",
    "### Step 3a. Count estimations"
   ]
  },
  {
   "cell_type": "code",
   "execution_count": 17,
   "metadata": {},
   "outputs": [],
   "source": [
    "from pgmpy.estimators import ParameterEstimator\n",
    "pe = ParameterEstimator(model, data)"
   ]
  },
  {
   "cell_type": "markdown",
   "metadata": {},
   "source": [
    "Let's look at some count estimates of the variables. Let's do this for `fruit` and `size`. "
   ]
  },
  {
   "cell_type": "code",
   "execution_count": 18,
   "metadata": {},
   "outputs": [
    {
     "name": "stdout",
     "output_type": "stream",
     "text": [
      "\n",
      "         fruit\n",
      "apple       7\n",
      "banana      7\n"
     ]
    }
   ],
   "source": [
    "print(\"\\n\", pe.state_counts('fruit')) "
   ]
  },
  {
   "cell_type": "code",
   "execution_count": 16,
   "metadata": {},
   "outputs": [
    {
     "name": "stdout",
     "output_type": "stream",
     "text": [
      "\n",
      " fruit apple banana\n",
      "size              \n",
      "large     4      6\n",
      "small     3      1\n"
     ]
    }
   ],
   "source": [
    "print(\"\\n\", pe.state_counts('size')) "
   ]
  },
  {
   "cell_type": "markdown",
   "metadata": {},
   "source": [
    "### Step 3b. Maximum likelihood estimation\n",
    "Now, we will get Maximum Likelihood estimations of the conditional distributions. This can be done by using the `MaximumLikelihoodEstimator` of pgmpy. "
   ]
  },
  {
   "cell_type": "code",
   "execution_count": 8,
   "metadata": {},
   "outputs": [],
   "source": [
    "from pgmpy.estimators import MaximumLikelihoodEstimator\n",
    "\n",
    "mle = MaximumLikelihoodEstimator(model, data)"
   ]
  },
  {
   "cell_type": "markdown",
   "metadata": {},
   "source": [
    "We can obtain the entries of the CPD for each variable using the `mle.estimate_cpd` function. Let's do it for `fruit`. CPD for `fruit`:"
   ]
  },
  {
   "cell_type": "code",
   "execution_count": 9,
   "metadata": {},
   "outputs": [
    {
     "name": "stdout",
     "output_type": "stream",
     "text": [
      "+---------------+-----+\n",
      "| fruit(apple)  | 0.5 |\n",
      "+---------------+-----+\n",
      "| fruit(banana) | 0.5 |\n",
      "+---------------+-----+\n"
     ]
    }
   ],
   "source": [
    "print(mle.estimate_cpd('fruit'))"
   ]
  },
  {
   "cell_type": "markdown",
   "metadata": {},
   "source": [
    "Similarly, the CPD for `size`:"
   ]
  },
  {
   "cell_type": "code",
   "execution_count": 54,
   "metadata": {},
   "outputs": [
    {
     "name": "stdout",
     "output_type": "stream",
     "text": [
      "+-------------+---------------------+---------------------+\n",
      "| fruit       | fruit(apple)        | fruit(banana)       |\n",
      "+-------------+---------------------+---------------------+\n",
      "| size(large) | 0.5714285714285714  | 0.8571428571428571  |\n",
      "+-------------+---------------------+---------------------+\n",
      "| size(small) | 0.42857142857142855 | 0.14285714285714285 |\n",
      "+-------------+---------------------+---------------------+\n"
     ]
    }
   ],
   "source": [
    "print(mle.estimate_cpd('size'))"
   ]
  },
  {
   "cell_type": "markdown",
   "metadata": {},
   "source": [
    "### Step 3c. Adding parameter priors\n",
    "The MLE of parameters can be problematic as it might not generalize well to new samples. Addition of parameter priors enables us to provide more robust estimates and also to incorporate any prior knowledge we might have about the parameters/model. Here we will consider the simplest type of parameter prior where we add a *pseudo count* of 1 to each CPD entry. This is also called the **K2** prior."
   ]
  },
  {
   "cell_type": "code",
   "execution_count": 58,
   "metadata": {},
   "outputs": [],
   "source": [
    "from pgmpy.estimators import BayesianEstimator\n",
    "est = BayesianEstimator(model, data)"
   ]
  },
  {
   "cell_type": "markdown",
   "metadata": {},
   "source": [
    "As in the MLE estimates, let's examine the CPD of different variables with the K2 prior. The CPD of the `size` variable:"
   ]
  },
  {
   "cell_type": "code",
   "execution_count": 59,
   "metadata": {},
   "outputs": [
    {
     "name": "stdout",
     "output_type": "stream",
     "text": [
      "+-------------+--------------------+--------------------+\n",
      "| fruit       | fruit(apple)       | fruit(banana)      |\n",
      "+-------------+--------------------+--------------------+\n",
      "| size(large) | 0.5555555555555556 | 0.7777777777777778 |\n",
      "+-------------+--------------------+--------------------+\n",
      "| size(small) | 0.4444444444444444 | 0.2222222222222222 |\n",
      "+-------------+--------------------+--------------------+\n"
     ]
    }
   ],
   "source": [
    "print(est.estimate_cpd('size',prior_type='K2'))"
   ]
  },
  {
   "cell_type": "markdown",
   "metadata": {},
   "source": [
    "The CPD of the `tasty` variable:"
   ]
  },
  {
   "cell_type": "code",
   "execution_count": 60,
   "metadata": {},
   "outputs": [
    {
     "name": "stdout",
     "output_type": "stream",
     "text": [
      "+------------+--------------------+-----+---------------+\n",
      "| color      | color(green)       | ... | color(yellow) |\n",
      "+------------+--------------------+-----+---------------+\n",
      "| size       | size(large)        | ... | size(small)   |\n",
      "+------------+--------------------+-----+---------------+\n",
      "| tasty(no)  | 0.3333333333333333 | ... | 0.5           |\n",
      "+------------+--------------------+-----+---------------+\n",
      "| tasty(yes) | 0.6666666666666666 | ... | 0.5           |\n",
      "+------------+--------------------+-----+---------------+\n"
     ]
    }
   ],
   "source": [
    "print(est.estimate_cpd('tasty',prior_type='K2'))"
   ]
  },
  {
   "cell_type": "markdown",
   "metadata": {},
   "source": [
    "The print function may suppress some columns to make everything fit. For large parent size, it might be better to use `get_values()` function and `variables`."
   ]
  },
  {
   "cell_type": "code",
   "execution_count": 51,
   "metadata": {},
   "outputs": [
    {
     "name": "stdout",
     "output_type": "stream",
     "text": [
      "+------------+--------------------+-----+---------------+\n",
      "| color      | color(green)       | ... | color(yellow) |\n",
      "+------------+--------------------+-----+---------------+\n",
      "| size       | size(large)        | ... | size(small)   |\n",
      "+------------+--------------------+-----+---------------+\n",
      "| tasty(no)  | 0.3333333333333333 | ... | 0.5           |\n",
      "+------------+--------------------+-----+---------------+\n",
      "| tasty(yes) | 0.6666666666666666 | ... | 0.5           |\n",
      "+------------+--------------------+-----+---------------+\n",
      "['tasty', 'color', 'size']\n",
      "[[0.33333333 0.66666667 0.33333333 0.4        0.28571429 0.5       ]\n",
      " [0.66666667 0.33333333 0.66666667 0.6        0.71428571 0.5       ]]\n"
     ]
    }
   ],
   "source": [
    "import pgmpy \n",
    "tasty_cpd=est.estimate_cpd('tasty',prior_type='K2')\n",
    "print(tasty_cpd)\n",
    "print(tasty_cpd.variables)\n",
    "print(tasty_cpd.get_values())\n",
    "_make_table_str()"
   ]
  }
 ],
 "metadata": {
  "kernelspec": {
   "display_name": "Python 3 (ipykernel)",
   "language": "python",
   "name": "python3"
  },
  "language_info": {
   "codemirror_mode": {
    "name": "ipython",
    "version": 3
   },
   "file_extension": ".py",
   "mimetype": "text/x-python",
   "name": "python",
   "nbconvert_exporter": "python",
   "pygments_lexer": "ipython3",
   "version": "3.10.4"
  }
 },
 "nbformat": 4,
 "nbformat_minor": 4
}

{
 "cells": [
  {
   "cell_type": "markdown",
   "metadata": {},
   "source": [
    "## Bayesian Network Concepts\n",
    "In this notebook, we will review some concepts about conditional probability tables, how to estimate them and how to use them. We will do this using the [pgmpy python suite](https://pgmpy.org/index.html). We will first import the set the paths and import pgmpy into the Jupyter environment. "
   ]
  },
  {
   "cell_type": "code",
   "execution_count": 1,
   "metadata": {
    "scrolled": false
   },
   "outputs": [
    {
     "name": "stderr",
     "output_type": "stream",
     "text": [
      "/mnt/ws/home/sroy/old-local-home/.local/lib/python3.7/site-packages/torch/cuda/__init__.py:52: UserWarning: CUDA initialization: Found no NVIDIA driver on your system. Please check that you have an NVIDIA GPU and installed a driver from http://www.nvidia.com/Download/index.aspx (Triggered internally at  /pytorch/c10/cuda/CUDAFunctions.cpp:100.)\n",
      "  return torch._C._cuda_getDeviceCount() > 0\n"
     ]
    }
   ],
   "source": [
    "import sys\n",
    "sys.path.append('/mnt/ws/home/sroy/old-local-home/.conda/envs/pgmpy/lib/python3.10/site-packages')\n",
    "sys.path\n",
    "\n",
    "import pgmpy"
   ]
  },
  {
   "cell_type": "markdown",
   "metadata": {},
   "source": [
    "# Create a small dataset \n",
    "This example is a toy example with just four variables. The are `fruit`, `tasty`, `size`, `color`. We will use the python `pandas` to create this dataset. This dataset has 14 samples.  "
   ]
  },
  {
   "cell_type": "code",
   "execution_count": 15,
   "metadata": {
    "scrolled": true
   },
   "outputs": [],
   "source": [
    "import pandas as pd\n",
    "data = pd.DataFrame(data={'fruit': [\"banana\", \"apple\", \"banana\", \"apple\", \"banana\",\"apple\", \"banana\",\n",
    "                                    \"apple\", \"apple\", \"apple\", \"banana\", \"banana\", \"apple\", \"banana\",],\n",
    "                          'tasty': [\"yes\", \"no\", \"yes\", \"yes\", \"yes\", \"yes\", \"yes\",\n",
    "                                    \"yes\", \"yes\", \"yes\", \"yes\", \"no\", \"no\", \"no\"],\n",
    "                          'size': [\"large\", \"large\", \"large\", \"small\", \"large\", \"large\", \"large\",\n",
    "                                    \"small\", \"large\", \"large\", \"large\", \"large\", \"small\", \"small\"],\n",
    "                         'color': [\"yellow\",\"green\",\"yellow\",\"red\",\"green\",\"red\",\"yellow\",\n",
    "                                  \"red\",\"yellow\",\"green\",\"green\",\"yellow\",\"red\",\"green\"]})\n",
    "\n"
   ]
  },
  {
   "cell_type": "markdown",
   "metadata": {},
   "source": [
    "Let's look at our data by printing it out. Using this dataset, we will try to answer simple questions like the probability of a banana being tasty given its size.  "
   ]
  },
  {
   "cell_type": "code",
   "execution_count": 35,
   "metadata": {
    "scrolled": false
   },
   "outputs": [
    {
     "name": "stdout",
     "output_type": "stream",
     "text": [
      "     fruit tasty   size   color\n",
      "0   banana   yes  large  yellow\n",
      "1    apple    no  large   green\n",
      "2   banana   yes  large  yellow\n",
      "3    apple   yes  small     red\n",
      "4   banana   yes  large   green\n",
      "5    apple   yes  large     red\n",
      "6   banana   yes  large  yellow\n",
      "7    apple   yes  small     red\n",
      "8    apple   yes  large  yellow\n",
      "9    apple   yes  large   green\n",
      "10  banana   yes  large   green\n",
      "11  banana    no  large  yellow\n",
      "12   apple    no  small     red\n",
      "13  banana    no  small   green\n"
     ]
    }
   ],
   "source": [
    "print(data)"
   ]
  },
  {
   "cell_type": "markdown",
   "metadata": {},
   "source": [
    "## Create a Bayesian network\n",
    "We will now create a Bayesian Network for our dataset. We will assume that the network will have `fruit` as the parent of `size` and `color` and, these two will determine if the fruit is tasty! We will use the `BayesianNetwork` class from pgmpy."
   ]
  },
  {
   "cell_type": "code",
   "execution_count": 2,
   "metadata": {},
   "outputs": [],
   "source": [
    "from pgmpy.models import BayesianNetwork"
   ]
  },
  {
   "cell_type": "markdown",
   "metadata": {},
   "source": [
    "Specify the structure of the Bayesian network by adding edges from parent to child."
   ]
  },
  {
   "cell_type": "code",
   "execution_count": 3,
   "metadata": {},
   "outputs": [],
   "source": [
    "model=BayesianNetwork([('fruit','size'),('fruit','color'),('size', 'tasty'), ('color', 'tasty')])"
   ]
  },
  {
   "cell_type": "markdown",
   "metadata": {},
   "source": [
    "Let's draw out the structure of the Bayesian network. We will use the `networkx` package for this."
   ]
  },
  {
   "cell_type": "code",
   "execution_count": 12,
   "metadata": {},
   "outputs": [
    {
     "data": {
      "image/png": "[encoded data removed]",
      "text/plain": [
       "<Figure size 432x288 with 1 Axes>"
      ]
     },
     "metadata": {},
     "output_type": "display_data"
    }
   ],
   "source": [
    "import importlib\n",
    "import networkx as nx\n",
    "import matplotlib.pyplot as plt\n",
    "#pos=nx.circular_layout(model)\n",
    "pos=nx.spring_layout(model)\n",
    "#pos=nx.planar_layout(model)\n",
    "nx.draw(model,pos=pos,with_labels=True,node_size=500,font_size=15,alpha=0.5);\n",
    "plt.show()"
   ]
  },
  {
   "cell_type": "markdown",
   "metadata": {},
   "source": [
    "## Parameter estimation of the Bayesian network\n",
    "Now we will do some count esitmations based on the data we had previously generated. For this we will use the `ParameterEstimator` class of pgmpy. We will first do simple count estimations, then maximum likelihood estimates and finally we will use a pseudo count (a simple version of adding parameter priors).\n",
    "\n",
    "### Count estimations"
   ]
  },
  {
   "cell_type": "code",
   "execution_count": 43,
   "metadata": {},
   "outputs": [],
   "source": [
    "from pgmpy.estimators import ParameterEstimator\n",
    "pe = ParameterEstimator(model, data)"
   ]
  },
  {
   "cell_type": "markdown",
   "metadata": {},
   "source": [
    "Let's look at some frequencies of the variables. Let's do this for `fruit` and `size`. \n",
    "<div class=\"alert alert-block alert-info\">\n",
    "    <b>Question:</b> What are the count estimates of <code>fruit</code> and <code>color</code> variables?\n",
    "</div>"
   ]
  },
  {
   "cell_type": "code",
   "execution_count": 48,
   "metadata": {},
   "outputs": [
    {
     "name": "stdout",
     "output_type": "stream",
     "text": [
      "\n",
      " fruit apple banana\n",
      "size              \n",
      "large     4      6\n",
      "small     3      1\n"
     ]
    }
   ],
   "source": [
    "print(\"\\n\", pe.state_counts('size')) "
   ]
  },
  {
   "cell_type": "markdown",
   "metadata": {},
   "source": [
    "### Maximum likelihood estimation\n",
    "Now, we will get Maximum Likelihood estimations of the conditional distributions. This can be done by using the `MaximumLikelihoodEstimator` of pgmpy. Next we will print out the estimated CPDs.\n"
   ]
  },
  {
   "cell_type": "code",
   "execution_count": 49,
   "metadata": {},
   "outputs": [],
   "source": [
    "from pgmpy.estimators import MaximumLikelihoodEstimator\n",
    "mle = MaximumLikelihoodEstimator(model, data)"
   ]
  },
  {
   "cell_type": "markdown",
   "metadata": {},
   "source": [
    "CPD for `fruit`"
   ]
  },
  {
   "cell_type": "code",
   "execution_count": 52,
   "metadata": {},
   "outputs": [
    {
     "name": "stdout",
     "output_type": "stream",
     "text": [
      "+---------------+-----+\n",
      "| fruit(apple)  | 0.5 |\n",
      "+---------------+-----+\n",
      "| fruit(banana) | 0.5 |\n",
      "+---------------+-----+\n"
     ]
    }
   ],
   "source": [
    "print(mle.estimate_cpd('fruit'))"
   ]
  },
  {
   "cell_type": "markdown",
   "metadata": {},
   "source": [
    "CPD for `size`"
   ]
  },
  {
   "cell_type": "code",
   "execution_count": 54,
   "metadata": {},
   "outputs": [
    {
     "name": "stdout",
     "output_type": "stream",
     "text": [
      "+-------------+---------------------+---------------------+\n",
      "| fruit       | fruit(apple)        | fruit(banana)       |\n",
      "+-------------+---------------------+---------------------+\n",
      "| size(large) | 0.5714285714285714  | 0.8571428571428571  |\n",
      "+-------------+---------------------+---------------------+\n",
      "| size(small) | 0.42857142857142855 | 0.14285714285714285 |\n",
      "+-------------+---------------------+---------------------+\n"
     ]
    }
   ],
   "source": [
    "print(mle.estimate_cpd('size'))"
   ]
  },
  {
   "cell_type": "code",
   "execution_count": 55,
   "metadata": {},
   "outputs": [
    {
     "name": "stdout",
     "output_type": "stream",
     "text": [
      "+------------+--------------+--------------+-------------+--------------------+---------------+---------------+\n",
      "| color      | color(green) | color(green) | color(red)  | color(red)         | color(yellow) | color(yellow) |\n",
      "+------------+--------------+--------------+-------------+--------------------+---------------+---------------+\n",
      "| size       | size(large)  | size(small)  | size(large) | size(small)        | size(large)   | size(small)   |\n",
      "+------------+--------------+--------------+-------------+--------------------+---------------+---------------+\n",
      "| tasty(no)  | 0.25         | 1.0          | 0.0         | 0.3333333333333333 | 0.2           | 0.5           |\n",
      "+------------+--------------+--------------+-------------+--------------------+---------------+---------------+\n",
      "| tasty(yes) | 0.75         | 0.0          | 1.0         | 0.6666666666666666 | 0.8           | 0.5           |\n",
      "+------------+--------------+--------------+-------------+--------------------+---------------+---------------+\n"
     ]
    }
   ],
   "source": [
    "print(mle.estimate_cpd('tasty'))"
   ]
  },
  {
   "cell_type": "markdown",
   "metadata": {},
   "source": [
    "<div class=\"alert alert-block alert-info\">\n",
    "    <b>Question:</b> \n",
    "        <ol>\n",
    "            <li>How many CPDs do we need to estimate?</li>\n",
    "            <li>Which variable's CPD is the most difficult to estimate? Why?</li>    \n",
    "            <li>Obtain the MLE estimates for the <em>tasty</em> and <em>color</em> variables.</li>\n",
    "            <li>Based on the estimated CPDs, what is the probability of a <code>fruit</code> being <code>tasty=yes</code> given it is <code>green</code> and <code>small</code>? </li>\n",
    "            <li>When is a fruit most likely to be tasty? Why?</li>\n",
    "        </ol>\n",
    "</div>"
   ]
  },
  {
   "cell_type": "markdown",
   "metadata": {},
   "source": [
    "### Adding parameter priors\n",
    "Here we will consider the simplest type of prior where we add a *pseudo count* of 1 to each CPD entry. This is also called the **K2** prior."
   ]
  },
  {
   "cell_type": "code",
   "execution_count": 16,
   "metadata": {},
   "outputs": [],
   "source": [
    "from pgmpy.estimators import BayesianEstimator\n",
    "est = BayesianEstimator(model, data)"
   ]
  },
  {
   "cell_type": "markdown",
   "metadata": {},
   "source": [
    "Estimate CPD of the `size` variable."
   ]
  },
  {
   "cell_type": "code",
   "execution_count": 17,
   "metadata": {},
   "outputs": [
    {
     "name": "stdout",
     "output_type": "stream",
     "text": [
      "+-------------+--------------------+--------------------+\n",
      "| fruit       | fruit(apple)       | fruit(banana)      |\n",
      "+-------------+--------------------+--------------------+\n",
      "| size(large) | 0.5555555555555556 | 0.7777777777777778 |\n",
      "+-------------+--------------------+--------------------+\n",
      "| size(small) | 0.4444444444444444 | 0.2222222222222222 |\n",
      "+-------------+--------------------+--------------------+\n"
     ]
    }
   ],
   "source": [
    "print(est.estimate_cpd('size',prior_type='K2'))"
   ]
  },
  {
   "cell_type": "code",
   "execution_count": 33,
   "metadata": {},
   "outputs": [
    {
     "name": "stdout",
     "output_type": "stream",
     "text": [
      "+------------+--------------------+--------------------+-----+-------------+--------------------+---------------+\n",
      "| color      | color(green)       | color(green)       | ... | color(red)  | color(yellow)      | color(yellow) |\n",
      "+------------+--------------------+--------------------+-----+-------------+--------------------+---------------+\n",
      "| size       | size(large)        | size(small)        | ... | size(small) | size(large)        | size(small)   |\n",
      "+------------+--------------------+--------------------+-----+-------------+--------------------+---------------+\n",
      "| tasty(no)  | 0.3333333333333333 | 0.6666666666666666 | ... | 0.4         | 0.2857142857142857 | 0.5           |\n",
      "+------------+--------------------+--------------------+-----+-------------+--------------------+---------------+\n",
      "| tasty(yes) | 0.6666666666666666 | 0.3333333333333333 | ... | 0.6         | 0.7142857142857143 | 0.5           |\n",
      "+------------+--------------------+--------------------+-----+-------------+--------------------+---------------+\n"
     ]
    }
   ],
   "source": [
    "print(est.estimate_cpd('tasty',prior_type='K2'))"
   ]
  },
  {
   "cell_type": "markdown",
   "metadata": {},
   "source": [
    "The print function may suppress some columns to make everything fit. For large parent size, it might be better to use <code>_make_table_str()</code>"
   ]
  },
  {
   "cell_type": "code",
   "execution_count": 37,
   "metadata": {},
   "outputs": [
    {
     "name": "stdout",
     "output_type": "stream",
     "text": [
      "----------  ------------------  ------------------  ------------------  -----------  ------------------  -------------\n",
      "color       color(green)        color(green)        color(red)          color(red)   color(yellow)       color(yellow)\n",
      "size        size(large)         size(small)         size(large)         size(small)  size(large)         size(small)\n",
      "tasty(no)   0.3333333333333333  0.6666666666666666  0.3333333333333333  0.4          0.2857142857142857  0.5\n",
      "tasty(yes)  0.6666666666666666  0.3333333333333333  0.6666666666666666  0.6          0.7142857142857143  0.5\n",
      "----------  ------------------  ------------------  ------------------  -----------  ------------------  -------------\n"
     ]
    }
   ],
   "source": [
    "print(tasty_cpd._make_table_str())"
   ]
  },
  {
   "cell_type": "markdown",
   "metadata": {},
   "source": [
    "<div class=\"alert alert-block alert-info\">\n",
    "    <b>Question:</b>\n",
    "<ol>\n",
    "    <li>What do you observe for entries in the CPD table estimated using MLE versus K2?</li>\n",
    "    <li>What is the probability of $$P(fruit=banana,color=green,size=large,tasty=no)$$ </li>\n",
    "    \n",
    "</div>"
   ]
  },
  {
   "cell_type": "code",
   "execution_count": null,
   "metadata": {},
   "outputs": [],
   "source": []
  }
 ],
 "metadata": {
  "kernelspec": {
   "display_name": "Python 3 (ipykernel)",
   "language": "python",
   "name": "python3"
  },
  "language_info": {
   "codemirror_mode": {
    "name": "ipython",
    "version": 3
   },
   "file_extension": ".py",
   "mimetype": "text/x-python",
   "name": "python",
   "nbconvert_exporter": "python",
   "pygments_lexer": "ipython3",
   "version": "3.10.4"
  }
 },
 "nbformat": 4,
 "nbformat_minor": 4
}

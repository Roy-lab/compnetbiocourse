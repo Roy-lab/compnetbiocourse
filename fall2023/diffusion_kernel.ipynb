{
 "cells": [
  {
   "cell_type": "markdown",
   "metadata": {},
   "source": [
    "# Diffusion kernel examples\n",
    "Anthony Gitter  \n",
    "November 14, 2023\n",
    "\n",
    "Compute diffusion kernel using the examples in the slides"
   ]
  },
  {
   "cell_type": "code",
   "execution_count": 1,
   "metadata": {},
   "outputs": [],
   "source": [
    "# See https://docs.scipy.org/doc/scipy/reference/generated/scipy.linalg.expm.html\n",
    "import numpy as np\n",
    "from scipy.linalg import expm\n",
    "from math import factorial"
   ]
  },
  {
   "cell_type": "code",
   "execution_count": 2,
   "metadata": {},
   "outputs": [],
   "source": [
    "# See https://stackoverflow.com/questions/2891790/pretty-print-a-numpy-array-without-scientific-notation-and-with-given-precision\n",
    "# for print NumPy print formatting\n",
    "def kernel(beta, laplacian):\n",
    "    with np.printoptions(precision=2, suppress=True):\n",
    "        print(expm(-beta * laplacian))"
   ]
  },
  {
   "cell_type": "code",
   "execution_count": 3,
   "metadata": {},
   "outputs": [],
   "source": [
    "# Create the graph Laplacian for the IsoRank graph\n",
    "A = np.array([[0,1,0,1,0],\n",
    "             [1,0,1,0,0],\n",
    "             [0,1,0,1,1],\n",
    "             [1,0,1,0,0],\n",
    "             [0,0,1,0,0]])\n",
    "D = np.diag(A @ np.ones(5))\n",
    "L = D - A"
   ]
  },
  {
   "cell_type": "code",
   "execution_count": 4,
   "metadata": {},
   "outputs": [
    {
     "data": {
      "text/plain": [
       "array([[ 2., -1.,  0., -1.,  0.],\n",
       "       [-1.,  2., -1.,  0.,  0.],\n",
       "       [ 0., -1.,  3., -1., -1.],\n",
       "       [-1.,  0., -1.,  2.,  0.],\n",
       "       [ 0.,  0., -1.,  0.,  1.]])"
      ]
     },
     "execution_count": 4,
     "metadata": {},
     "output_type": "execute_result"
    }
   ],
   "source": [
    "L"
   ]
  },
  {
   "cell_type": "markdown",
   "metadata": {},
   "source": [
    "## Compute the graph diffusion kernel for various $\\beta$ values"
   ]
  },
  {
   "cell_type": "code",
   "execution_count": 5,
   "metadata": {},
   "outputs": [
    {
     "name": "stdout",
     "output_type": "stream",
     "text": [
      "[[1. 0. 0. 0. 0.]\n",
      " [0. 1. 0. 0. 0.]\n",
      " [0. 0. 1. 0. 0.]\n",
      " [0. 0. 0. 1. 0.]\n",
      " [0. 0. 0. 0. 1.]]\n"
     ]
    }
   ],
   "source": [
    "kernel(0, L)"
   ]
  },
  {
   "cell_type": "code",
   "execution_count": 6,
   "metadata": {},
   "outputs": [
    {
     "name": "stdout",
     "output_type": "stream",
     "text": [
      "[[0.47 0.21 0.09 0.21 0.02]\n",
      " [0.21 0.46 0.18 0.09 0.05]\n",
      " [0.09 0.18 0.34 0.18 0.21]\n",
      " [0.21 0.09 0.18 0.46 0.05]\n",
      " [0.02 0.05 0.21 0.05 0.67]]\n"
     ]
    }
   ],
   "source": [
    "kernel(0.5, L)"
   ]
  },
  {
   "cell_type": "code",
   "execution_count": 7,
   "metadata": {},
   "outputs": [
    {
     "name": "stdout",
     "output_type": "stream",
     "text": [
      "[[0.32 0.24 0.15 0.24 0.06]\n",
      " [0.24 0.3  0.19 0.17 0.11]\n",
      " [0.15 0.19 0.23 0.19 0.24]\n",
      " [0.24 0.17 0.19 0.3  0.11]\n",
      " [0.06 0.11 0.24 0.11 0.49]]\n"
     ]
    }
   ],
   "source": [
    "kernel(1, L)"
   ]
  },
  {
   "cell_type": "code",
   "execution_count": 8,
   "metadata": {},
   "outputs": [
    {
     "name": "stdout",
     "output_type": "stream",
     "text": [
      "[[0.24 0.22 0.19 0.22 0.13]\n",
      " [0.22 0.22 0.19 0.2  0.16]\n",
      " [0.19 0.19 0.21 0.19 0.22]\n",
      " [0.22 0.2  0.19 0.22 0.16]\n",
      " [0.13 0.16 0.22 0.16 0.33]]\n"
     ]
    }
   ],
   "source": [
    "kernel(2, L)"
   ]
  },
  {
   "cell_type": "code",
   "execution_count": 9,
   "metadata": {},
   "outputs": [
    {
     "name": "stdout",
     "output_type": "stream",
     "text": [
      "[[0.2 0.2 0.2 0.2 0.2]\n",
      " [0.2 0.2 0.2 0.2 0.2]\n",
      " [0.2 0.2 0.2 0.2 0.2]\n",
      " [0.2 0.2 0.2 0.2 0.2]\n",
      " [0.2 0.2 0.2 0.2 0.2]]\n"
     ]
    }
   ],
   "source": [
    "kernel(10, L)"
   ]
  },
  {
   "cell_type": "markdown",
   "metadata": {},
   "source": [
    "## Compute powers of the Laplacian\n",
    "Show the first terms of the matrix exponential series"
   ]
  },
  {
   "cell_type": "code",
   "execution_count": 10,
   "metadata": {},
   "outputs": [
    {
     "name": "stdout",
     "output_type": "stream",
     "text": [
      "L^1\n",
      "[[ 2. -1.  0. -1.  0.]\n",
      " [-1.  2. -1.  0.  0.]\n",
      " [ 0. -1.  3. -1. -1.]\n",
      " [-1.  0. -1.  2.  0.]\n",
      " [ 0.  0. -1.  0.  1.]]\n",
      "\n",
      "L^2\n",
      "[[ 6. -4.  2. -4.  0.]\n",
      " [-4.  6. -5.  2.  1.]\n",
      " [ 2. -5. 12. -5. -4.]\n",
      " [-4.  2. -5.  6.  1.]\n",
      " [ 0.  1. -4.  1.  2.]]\n",
      "\n",
      "L^3\n",
      "[[ 20. -16.  14. -16.  -2.]\n",
      " [-16.  21. -24.  13.   6.]\n",
      " [ 14. -24.  50. -24. -16.]\n",
      " [-16.  13. -24.  21.   6.]\n",
      " [ -2.   6. -16.   6.   6.]]\n",
      "\n",
      "L^4\n",
      "[[  72.  -66.   76.  -66.  -16.]\n",
      " [ -66.   82. -112.   66.   30.]\n",
      " [  76. -112.  214. -112.  -66.]\n",
      " [ -66.   66. -112.   82.   30.]\n",
      " [ -16.   30.  -66.   30.   22.]]\n",
      "\n",
      "L^5\n",
      "[[ 276. -280.  376. -280.  -92.]\n",
      " [-280.  342. -514.  310.  142.]\n",
      " [ 376. -514.  932. -514. -280.]\n",
      " [-280.  310. -514.  342.  142.]\n",
      " [ -92.  142. -280.  142.   88.]]\n",
      "\n"
     ]
    }
   ],
   "source": [
    "# First only the numerator, ignoring beta\n",
    "product = L\n",
    "for i in range(1,6):\n",
    "    print(f'L^{i}')\n",
    "    print(product)\n",
    "    product = product @ L\n",
    "    print()"
   ]
  },
  {
   "cell_type": "code",
   "execution_count": 11,
   "metadata": {},
   "outputs": [
    {
     "name": "stdout",
     "output_type": "stream",
     "text": [
      "L^1/1!\n",
      "[[ 2. -1.  0. -1.  0.]\n",
      " [-1.  2. -1.  0.  0.]\n",
      " [ 0. -1.  3. -1. -1.]\n",
      " [-1.  0. -1.  2.  0.]\n",
      " [ 0.  0. -1.  0.  1.]]\n",
      "\n",
      "L^2/2!\n",
      "[[ 3.  -2.   1.  -2.   0. ]\n",
      " [-2.   3.  -2.5  1.   0.5]\n",
      " [ 1.  -2.5  6.  -2.5 -2. ]\n",
      " [-2.   1.  -2.5  3.   0.5]\n",
      " [ 0.   0.5 -2.   0.5  1. ]]\n",
      "\n",
      "L^3/3!\n",
      "[[ 3.33 -2.67  2.33 -2.67 -0.33]\n",
      " [-2.67  3.5  -4.    2.17  1.  ]\n",
      " [ 2.33 -4.    8.33 -4.   -2.67]\n",
      " [-2.67  2.17 -4.    3.5   1.  ]\n",
      " [-0.33  1.   -2.67  1.    1.  ]]\n",
      "\n",
      "L^4/4!\n",
      "[[ 3.   -2.75  3.17 -2.75 -0.67]\n",
      " [-2.75  3.42 -4.67  2.75  1.25]\n",
      " [ 3.17 -4.67  8.92 -4.67 -2.75]\n",
      " [-2.75  2.75 -4.67  3.42  1.25]\n",
      " [-0.67  1.25 -2.75  1.25  0.92]]\n",
      "\n",
      "L^5/5!\n",
      "[[ 2.3  -2.33  3.13 -2.33 -0.77]\n",
      " [-2.33  2.85 -4.28  2.58  1.18]\n",
      " [ 3.13 -4.28  7.77 -4.28 -2.33]\n",
      " [-2.33  2.58 -4.28  2.85  1.18]\n",
      " [-0.77  1.18 -2.33  1.18  0.73]]\n",
      "\n"
     ]
    }
   ],
   "source": [
    "# Now show it with the denominator\n",
    "product = L\n",
    "with np.printoptions(precision=2, suppress=True):\n",
    "    for i in range(1,6):\n",
    "        print(f'L^{i}/{i}!')\n",
    "        print(product / factorial(i))\n",
    "        product = product @ L\n",
    "        print()"
   ]
  },
  {
   "cell_type": "markdown",
   "metadata": {},
   "source": [
    "## Example calculations for HotNet heat kernel"
   ]
  },
  {
   "cell_type": "code",
   "execution_count": 12,
   "metadata": {},
   "outputs": [],
   "source": [
    "gamma = 0.5\n",
    "L_gamma = L + gamma * np.eye(5)"
   ]
  },
  {
   "cell_type": "code",
   "execution_count": 13,
   "metadata": {},
   "outputs": [
    {
     "data": {
      "text/plain": [
       "array([[ 2.5, -1. ,  0. , -1. ,  0. ],\n",
       "       [-1. ,  2.5, -1. ,  0. ,  0. ],\n",
       "       [ 0. , -1. ,  3.5, -1. , -1. ],\n",
       "       [-1. ,  0. , -1. ,  2.5,  0. ],\n",
       "       [ 0. ,  0. , -1. ,  0. ,  1.5]])"
      ]
     },
     "execution_count": 13,
     "metadata": {},
     "output_type": "execute_result"
    }
   ],
   "source": [
    "L_gamma"
   ]
  },
  {
   "cell_type": "code",
   "execution_count": 14,
   "metadata": {},
   "outputs": [],
   "source": [
    "b = np.array([1,0,0,0,0]) # source node\n",
    "f = np.array([0.8,0.7,0.6,0.55,0.2]) # invention diffusion at t"
   ]
  },
  {
   "cell_type": "code",
   "execution_count": 15,
   "metadata": {},
   "outputs": [
    {
     "data": {
      "text/plain": [
       "array([ 0.25 , -0.35 , -0.65 ,  0.025,  0.3  ])"
      ]
     },
     "execution_count": 15,
     "metadata": {},
     "output_type": "execute_result"
    }
   ],
   "source": [
    "# diffusion rate\n",
    "-L_gamma @ f + b"
   ]
  }
 ],
 "metadata": {
  "kernelspec": {
   "display_name": "Python 3",
   "language": "python",
   "name": "python3"
  },
  "language_info": {
   "codemirror_mode": {
    "name": "ipython",
    "version": 3
   },
   "file_extension": ".py",
   "mimetype": "text/x-python",
   "name": "python",
   "nbconvert_exporter": "python",
   "pygments_lexer": "ipython3",
   "version": "3.7.3"
  }
 },
 "nbformat": 4,
 "nbformat_minor": 2
}
